{
  "cells": [
    {
      "cell_type": "markdown",
      "source": [
        "#### Training Code Sample for Paper: \n",
        "####  WEDGE: A multi-weather autonomous driving dataset built from generative vision-language models\n"
   
      ],
      "metadata": {
        "id": "iXyEvr0ermOn"
      }
    },
    {
      "cell_type": "markdown",
      "source": [
        "Code Sources and References : https://detecto.readthedocs.io/en/latest/"
      ],
      "metadata": {
        "id": "qKhD-IC5rkmM"
      }
    },
    {
      "cell_type": "code",
      "execution_count": null,
      "metadata": {
        "id": "hJ0bcjiFyqZD"
      },
      "outputs": [],
      "source": [
        "from google.colab import drive\n",
        "drive.mount('/content/gdrive', force_remount=True)"
      ]
    },
    {
      "cell_type": "code",
      "execution_count": null,
      "metadata": {
        "id": "Y9YyWtlC6Io2"
      },
      "outputs": [],
      "source": [
        "!pip install detecto"
      ]
    },
    {
      "cell_type": "code",
      "execution_count": null,
      "metadata": {
        "id": "o8_EIOvz6AwF"
      },
      "outputs": [],
      "source": [
        "import torch\n",
        "from detecto import core, utils, visualize\n",
        "from detecto.visualize import show_labeled_image, plot_prediction_grid\n",
        "from torchvision import transforms\n",
        "import matplotlib.pyplot as plt\n",
        "import numpy as np\n",
        "print(torch.cuda.is_available())\n"
      ]
    },
    {
      "cell_type": "code",
      "execution_count": null,
      "metadata": {
        "id": "2Vn-gjZ06As7"
      },
      "outputs": [],
      "source": [
        "# Optional\n",
        "# custom_transforms = transforms.Compose([\n",
        "# transforms.ToPILImage(),\n",
        "# transforms.Resize(900),\n",
        "# transforms.RandomHorizontalFlip(0.5),\n",
        "# transforms.ColorJitter(saturation=0.2),\n",
        "# transforms.ToTensor(),\n",
        "# utils.normalize_transform(),\n",
        "# ])"
      ]
    },
    {
      "cell_type": "code",
      "execution_count": null,
      "metadata": {
        "id": "GrJIVVcJU4ag"
      },
      "outputs": [],
      "source": [
        "#Put your data train path here\n",
        "Train_dataset=core.Dataset(\"/Data/train\",transform=custom_transforms)\n",
        "loader=core.DataLoader(Train_dataset, batch_size=4, shuffle=True)"
      ]
    },
    {
      "cell_type": "code",
      "execution_count": null,
      "metadata": {
        "id": "0--tSWDcZvoA"
      },
      "outputs": [],
      "source": [
        "model = core.Model([   \"__ignore__\", \"_background_\", \"car\",\"person\",\"bus\",\"truck\",\"van\",\"motorcycle\",\"bicycle\"],model_name='fasterrcnn_resnet50_fpn')\n",
        "losses =model.fit(loader, epochs=50, lr_step_size=5, learning_rate=0.001, verbose=True)"
      ]
    },
    {
      "cell_type": "code",
      "execution_count": null,
      "metadata": {
        "id": "Y_PIY5i0VdC6"
      },
      "outputs": [],
      "source": [
        "model.save('rcnn_resnet50_train_wedge.pth')"
      ]
    }
  ],
  "metadata": {
    "accelerator": "GPU",
    "colab": {
      "provenance": []
    },
    "gpuClass": "standard",
    "kernelspec": {
      "display_name": "Python 3",
      "name": "python3"
    },
    "language_info": {
      "name": "python"
    }
  },
  "nbformat": 4,
  "nbformat_minor": 0
}
